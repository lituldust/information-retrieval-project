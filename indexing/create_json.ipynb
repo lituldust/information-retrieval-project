{
 "cells": [
  {
   "cell_type": "code",
   "execution_count": 4,
   "id": "db8d3736",
   "metadata": {},
   "outputs": [],
   "source": [
    "import os\n",
    "import json\n",
    "import pandas as pd"
   ]
  },
  {
   "cell_type": "code",
   "execution_count": 7,
   "id": "da87c0d0",
   "metadata": {},
   "outputs": [],
   "source": [
    "df = pd.read_csv('../artikel/all_health_articles.csv')"
   ]
  },
  {
   "cell_type": "code",
   "execution_count": 8,
   "id": "4a7726b7",
   "metadata": {},
   "outputs": [
    {
     "data": {
      "text/html": [
       "<div>\n",
       "<style scoped>\n",
       "    .dataframe tbody tr th:only-of-type {\n",
       "        vertical-align: middle;\n",
       "    }\n",
       "\n",
       "    .dataframe tbody tr th {\n",
       "        vertical-align: top;\n",
       "    }\n",
       "\n",
       "    .dataframe thead th {\n",
       "        text-align: right;\n",
       "    }\n",
       "</style>\n",
       "<table border=\"1\" class=\"dataframe\">\n",
       "  <thead>\n",
       "    <tr style=\"text-align: right;\">\n",
       "      <th></th>\n",
       "      <th>article_index</th>\n",
       "      <th>title</th>\n",
       "      <th>tag</th>\n",
       "      <th>link</th>\n",
       "      <th>date</th>\n",
       "      <th>description</th>\n",
       "      <th>content</th>\n",
       "      <th>source</th>\n",
       "    </tr>\n",
       "  </thead>\n",
       "  <tbody>\n",
       "    <tr>\n",
       "      <th>0</th>\n",
       "      <td>1</td>\n",
       "      <td>5 rawat ginjal sehat cegah sakit ginjal</td>\n",
       "      <td>Kesehatan Umum</td>\n",
       "      <td>https://www.biofarma.co.id/id/announcement/det...</td>\n",
       "      <td>3 September 2025</td>\n",
       "      <td>kenal rawat ginjal hindar dari gejala ginjal m...</td>\n",
       "      <td>ginjal organ vital fungsi nyaring darah buang ...</td>\n",
       "      <td>Biofarma</td>\n",
       "    </tr>\n",
       "    <tr>\n",
       "      <th>1</th>\n",
       "      <td>2</td>\n",
       "      <td>7 tips jaga sehat mata</td>\n",
       "      <td>Kesehatan Umum</td>\n",
       "      <td>https://www.biofarma.co.id/id/announcement/det...</td>\n",
       "      <td>29 Agustus 2025</td>\n",
       "      <td>tips jaga sehat mata nutrisi gizi kacamata lin...</td>\n",
       "      <td>jaga sehat mata mata peran aktivitas seharihar...</td>\n",
       "      <td>Biofarma</td>\n",
       "    </tr>\n",
       "    <tr>\n",
       "      <th>2</th>\n",
       "      <td>3</td>\n",
       "      <td>sepele 10 sebab campak abai</td>\n",
       "      <td>Kesehatan Umum</td>\n",
       "      <td>https://www.biofarma.co.id/id/announcement/det...</td>\n",
       "      <td>28 Agustus 2025</td>\n",
       "      <td>kenal faktor utama sebab campak gejala khas ce...</td>\n",
       "      <td>sebab campak campak sakit tular sebab virus ca...</td>\n",
       "      <td>Biofarma</td>\n",
       "    </tr>\n",
       "    <tr>\n",
       "      <th>3</th>\n",
       "      <td>4</td>\n",
       "      <td>campak sebab gejala cegah</td>\n",
       "      <td>Kesehatan Umum</td>\n",
       "      <td>https://www.biofarma.co.id/id/announcement/det...</td>\n",
       "      <td>25 Agustus 2025</td>\n",
       "      <td>campak bahaya biar periksa dokter gejala muncu...</td>\n",
       "      <td>campak campak rubella sakit tular sebab virus ...</td>\n",
       "      <td>Biofarma</td>\n",
       "    </tr>\n",
       "    <tr>\n",
       "      <th>4</th>\n",
       "      <td>5</td>\n",
       "      <td>mudah jaga sehat gigi mulut hindar dari sakit</td>\n",
       "      <td>Kesehatan Umum</td>\n",
       "      <td>https://www.biofarma.co.id/id/announcement/det...</td>\n",
       "      <td>20 Agustus 2025</td>\n",
       "      <td>sehat gigi mulut kondisi gigi gusi lidah rongg...</td>\n",
       "      <td>sehat gigi mulut sehat gigi mulut kondisi gigi...</td>\n",
       "      <td>Biofarma</td>\n",
       "    </tr>\n",
       "  </tbody>\n",
       "</table>\n",
       "</div>"
      ],
      "text/plain": [
       "   article_index                                          title  \\\n",
       "0              1        5 rawat ginjal sehat cegah sakit ginjal   \n",
       "1              2                         7 tips jaga sehat mata   \n",
       "2              3                    sepele 10 sebab campak abai   \n",
       "3              4                      campak sebab gejala cegah   \n",
       "4              5  mudah jaga sehat gigi mulut hindar dari sakit   \n",
       "\n",
       "              tag                                               link  \\\n",
       "0  Kesehatan Umum  https://www.biofarma.co.id/id/announcement/det...   \n",
       "1  Kesehatan Umum  https://www.biofarma.co.id/id/announcement/det...   \n",
       "2  Kesehatan Umum  https://www.biofarma.co.id/id/announcement/det...   \n",
       "3  Kesehatan Umum  https://www.biofarma.co.id/id/announcement/det...   \n",
       "4  Kesehatan Umum  https://www.biofarma.co.id/id/announcement/det...   \n",
       "\n",
       "               date                                        description  \\\n",
       "0  3 September 2025  kenal rawat ginjal hindar dari gejala ginjal m...   \n",
       "1   29 Agustus 2025  tips jaga sehat mata nutrisi gizi kacamata lin...   \n",
       "2   28 Agustus 2025  kenal faktor utama sebab campak gejala khas ce...   \n",
       "3   25 Agustus 2025  campak bahaya biar periksa dokter gejala muncu...   \n",
       "4   20 Agustus 2025  sehat gigi mulut kondisi gigi gusi lidah rongg...   \n",
       "\n",
       "                                             content    source  \n",
       "0  ginjal organ vital fungsi nyaring darah buang ...  Biofarma  \n",
       "1  jaga sehat mata mata peran aktivitas seharihar...  Biofarma  \n",
       "2  sebab campak campak sakit tular sebab virus ca...  Biofarma  \n",
       "3  campak campak rubella sakit tular sebab virus ...  Biofarma  \n",
       "4  sehat gigi mulut sehat gigi mulut kondisi gigi...  Biofarma  "
      ]
     },
     "execution_count": 8,
     "metadata": {},
     "output_type": "execute_result"
    }
   ],
   "source": [
    "df.head()"
   ]
  },
  {
   "cell_type": "markdown",
   "id": "418e0242",
   "metadata": {},
   "source": [
    "# Indexing (Judul)"
   ]
  },
  {
   "cell_type": "code",
   "execution_count": null,
   "id": "25f8f32e",
   "metadata": {},
   "outputs": [],
   "source": [
    "output_file = 'title/index_title.jsonl'\n",
    "output_dir = os.path.dirname(output_file)\n",
    "\n",
    "if not os.path.exists(output_dir):\n",
    "    os.makedirs(output_dir)\n",
    "    print(f\"Created directory: {output_dir}\")\n",
    "\n",
    "with open(output_file, 'w') as f:\n",
    "    for index, row in df.iterrows():\n",
    "        json_record={\n",
    "            \"id\": row['article_index'],\n",
    "            \"title\": row['title']\n",
    "        }\n",
    "        json_string = json.dumps(json_record)\n",
    "        f.write(json_string + '\\n')"
   ]
  },
  {
   "cell_type": "code",
   "execution_count": null,
   "id": "c1642b23",
   "metadata": {},
   "outputs": [],
   "source": []
  },
  {
   "cell_type": "markdown",
   "id": "e27ff1d9",
   "metadata": {},
   "source": [
    "# Indexing (Judul + Konten)"
   ]
  },
  {
   "cell_type": "code",
   "execution_count": 12,
   "id": "e3058008",
   "metadata": {},
   "outputs": [
    {
     "name": "stdout",
     "output_type": "stream",
     "text": [
      "Created directory: title_content\n"
     ]
    }
   ],
   "source": [
    "output_file = 'title_content/index_title_content.jsonl'\n",
    "output_dir = os.path.dirname(output_file)\n",
    "\n",
    "if not os.path.exists(output_dir):\n",
    "    os.makedirs(output_dir)\n",
    "    print(f\"Created directory: {output_dir}\")\n",
    "\n",
    "with open(output_file, 'w') as f:\n",
    "    for index, row in df.iterrows():\n",
    "        json_record={\n",
    "            \"id\": row['article_index'],\n",
    "            \"title\": row['title'],\n",
    "            \"contents\": row['content']\n",
    "        }\n",
    "        json_string = json.dumps(json_record)\n",
    "        f.write(json_string + '\\n')"
   ]
  },
  {
   "cell_type": "markdown",
   "id": "daf4eaf3",
   "metadata": {},
   "source": [
    "# Indexing (Judul + Deskripsi + Konten)"
   ]
  },
  {
   "cell_type": "code",
   "execution_count": 13,
   "id": "79c266f4",
   "metadata": {},
   "outputs": [
    {
     "name": "stdout",
     "output_type": "stream",
     "text": [
      "Created directory: title_desc_content\n"
     ]
    }
   ],
   "source": [
    "output_file = 'title_desc_content/index_title_desc_content.jsonl'\n",
    "output_dir = os.path.dirname(output_file)\n",
    "\n",
    "if not os.path.exists(output_dir):\n",
    "    os.makedirs(output_dir)\n",
    "    print(f\"Created directory: {output_dir}\")\n",
    "\n",
    "with open(output_file, 'w') as f:\n",
    "    for index, row in df.iterrows():\n",
    "        json_record={\n",
    "            \"id\": row['article_index'],\n",
    "            \"title\": row['title'],\n",
    "            \"description\": row['description'],\n",
    "            \"contents\": row['content']\n",
    "        }\n",
    "        json_string = json.dumps(json_record)\n",
    "        f.write(json_string + '\\n')"
   ]
  }
 ],
 "metadata": {
  "kernelspec": {
   "display_name": ".venv (3.12.5)",
   "language": "python",
   "name": "python3"
  },
  "language_info": {
   "codemirror_mode": {
    "name": "ipython",
    "version": 3
   },
   "file_extension": ".py",
   "mimetype": "text/x-python",
   "name": "python",
   "nbconvert_exporter": "python",
   "pygments_lexer": "ipython3",
   "version": "3.12.5"
  }
 },
 "nbformat": 4,
 "nbformat_minor": 5
}
